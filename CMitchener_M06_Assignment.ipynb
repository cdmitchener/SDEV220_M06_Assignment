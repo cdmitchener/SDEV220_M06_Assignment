{
 "cells": [
  {
   "cell_type": "markdown",
   "id": "683e05ea",
   "metadata": {},
   "source": [
    "# 13.1 Write the current date as a string to the text file today.txt"
   ]
  },
  {
   "cell_type": "code",
   "execution_count": 1,
   "id": "b9e6c7ef",
   "metadata": {},
   "outputs": [],
   "source": [
    "# import date to access the today() fxn and import datetime to access strptime() fxn for exercise 13.3\n",
    "from datetime import date, datetime\n",
    "\n",
    "# today() fxn generates today's date\n",
    "now = date.today()\n",
    "# can print today's date with isoformat() fxn\n",
    "now_str = now.isoformat()\n",
    "\n",
    "# create file today.txt if doesn't exist and open it; otherwise, just open it\n",
    "file = open('today.txt', 'wt')\n",
    "# write today's date in today.txt\n",
    "file.write(now_str)\n",
    "# close today.txt\n",
    "file.close()"
   ]
  },
  {
   "cell_type": "markdown",
   "id": "7995b78d",
   "metadata": {},
   "source": [
    "# 13.2 Read the text file today.txt into the string today_string"
   ]
  },
  {
   "cell_type": "code",
   "execution_count": 2,
   "id": "46f25601",
   "metadata": {},
   "outputs": [
    {
     "name": "stdout",
     "output_type": "stream",
     "text": [
      "2022-10-02\n"
     ]
    }
   ],
   "source": [
    "# open today.txt\n",
    "fin = open('today.txt', 'rt')\n",
    "\n",
    "# read today.txt's contents\n",
    "today_string = fin.read()\n",
    "\n",
    "# output the contents\n",
    "print(today_string)"
   ]
  },
  {
   "cell_type": "markdown",
   "id": "2698e205",
   "metadata": {},
   "source": [
    "# 13.3 Parse the date from today_string"
   ]
  },
  {
   "cell_type": "code",
   "execution_count": 3,
   "id": "fdbd71be",
   "metadata": {},
   "outputs": [
    {
     "data": {
      "text/plain": [
       "datetime.datetime(2022, 10, 2, 0, 0)"
      ]
     },
     "execution_count": 3,
     "metadata": {},
     "output_type": "execute_result"
    }
   ],
   "source": [
    "# define the format string\n",
    "fmt = '%Y-%m-%d'\n",
    "\n",
    "datetime.strptime(today_string, fmt)"
   ]
  },
  {
   "cell_type": "markdown",
   "id": "a0ef5f0c",
   "metadata": {},
   "source": [
    "# 15.1 Use multiprocessing to create three separate processes. Make each one wait a random number of seconds between zero and one, print the current time, and then exit."
   ]
  },
  {
   "cell_type": "code",
   "execution_count": 4,
   "id": "788d81b2",
   "metadata": {},
   "outputs": [
    {
     "name": "stdout",
     "output_type": "stream",
     "text": [
      "Waited 0.9304237480260608 seconds... the time is 2022-10-02 18:46:51.087127\n",
      "Waited 0.9170091218163425 seconds... the time is 2022-10-02 18:46:52.019707\n",
      "Waited 0.16066701490032653 seconds... the time is 2022-10-02 18:46:52.192682\n"
     ]
    }
   ],
   "source": [
    "# import datetime to access the utcnow() fxn\n",
    "from datetime import datetime\n",
    "# import sleep to use the sleep() fxn\n",
    "from time import sleep\n",
    "import multiprocessing\n",
    "import random\n",
    "\n",
    "def now(seconds):\n",
    "    sleep(seconds)\n",
    "    # note: classmethod datetime.now(tz=None) is preferred over today() and utcnow()\n",
    "    print(f'Waited {seconds} seconds... the time is {datetime.utcnow()}')\n",
    "    \n",
    "if __name__ == \"__main__\":\n",
    "    for n in range(3):\n",
    "        seconds = random.random()\n",
    "        # target lets us select the fxn for the process to execute, and in this case it passes the argument of seconds to it\n",
    "        p = multiprocessing.Process(target=now, args=(seconds,))\n",
    "        p.start\n",
    "        now(seconds)"
   ]
  }
 ],
 "metadata": {
  "kernelspec": {
   "display_name": "Python 3 (ipykernel)",
   "language": "python",
   "name": "python3"
  },
  "language_info": {
   "codemirror_mode": {
    "name": "ipython",
    "version": 3
   },
   "file_extension": ".py",
   "mimetype": "text/x-python",
   "name": "python",
   "nbconvert_exporter": "python",
   "pygments_lexer": "ipython3",
   "version": "3.9.12"
  }
 },
 "nbformat": 4,
 "nbformat_minor": 5
}
